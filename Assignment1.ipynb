{
 "cells": [
  {
   "cell_type": "code",
   "execution_count": 3,
   "metadata": {},
   "outputs": [
    {
     "name": "stdout",
     "output_type": "stream",
     "text": [
      "This is my first program in Jupyter\n",
      "This is for task1 question1 of assignment 1\n"
     ]
    }
   ],
   "source": [
    "print (\"This is my first program in Jupyter\")\n",
    "print (\"This is for task1 question1 of assignment 1\")"
   ]
  },
  {
   "cell_type": "code",
   "execution_count": 4,
   "metadata": {},
   "outputs": [
    {
     "name": "stdout",
     "output_type": "stream",
     "text": [
      "2002,2009,2016,2023,2037,2044,2051,2058,2072,2079,2086,2093,2107,2114,2121,2128,2142,2149,2156,2163,2177,2184,2191,2198,2212,2219,2226,2233,2247,2254,2261,2268,2282,2289,2296,2303,2317,2324,2331,2338,2352,2359,2366,2373,2387,2394,2401,2408,2422,2429,2436,2443,2457,2464,2471,2478,2492,2499,2506,2513,2527,2534,2541,2548,2562,2569,2576,2583,2597,2604,2611,2618,2632,2639,2646,2653,2667,2674,2681,2688,2702,2709,2716,2723,2737,2744,2751,2758,2772,2779,2786,2793,2807,2814,2821,2828,2842,2849,2856,2863,2877,2884,2891,2898,2912,2919,2926,2933,2947,2954,2961,2968,2982,2989,2996,3003,3017,3024,3031,3038,3052,3059,3066,3073,3087,3094,3101,3108,3122,3129,3136,3143,3157,3164,3171,3178,3192,3199."
     ]
    }
   ],
   "source": [
    "# Task1 - 2 Write a program which will find all such numbers which are divisible by 7 but are not a multiple \n",
    "# of 5, between 2000 and 3200 (both included). The numbers obtained should be printed in a\n",
    "# comma-separated sequence on a single line.\n",
    "# ----------------------------------------------------------------------------------------------------------------------\n",
    "\n",
    "numlist = list(range(2000,3201))\n",
    "seven = []\n",
    "for i in numlist:\n",
    "    if (i%7==0):\n",
    "        if(i%5 == 0):\n",
    "            continue\n",
    "        seven.append(i)\n",
    "\n",
    "print(*seven, sep=\",\",end=\".\")\n"
   ]
  },
  {
   "cell_type": "code",
   "execution_count": 14,
   "metadata": {},
   "outputs": [
    {
     "name": "stdout",
     "output_type": "stream",
     "text": [
      "What is your first name? Sunitha\n",
      "What is your last name? Kumar\n",
      "Your name is: Sunitha Kumar\n",
      "The reverse of your name is: ahtinuS ramuK\n"
     ]
    }
   ],
   "source": [
    "# Task1 - 3. Write a Python program to accept the user's first and last name and then getting them printed in\n",
    "# the the reverse order with a space between first name and last name\n",
    "# ----------------------------------------------------------------------------------------------------------------------\n",
    "\n",
    "firstname = input(\"What is your first name? \")\n",
    "lastname = input(\"What is your last name? \")\n",
    "print (\"Your name is: \" + firstname + ' ' + lastname )\n",
    "print (\"The reverse of your name is: \" + firstname[::-1] + ' ' + lastname[::-1])\n"
   ]
  },
  {
   "cell_type": "code",
   "execution_count": 18,
   "metadata": {},
   "outputs": [
    {
     "name": "stdout",
     "output_type": "stream",
     "text": [
      "The volume of the sphere is:  904.7786842338603\n"
     ]
    }
   ],
   "source": [
    "# Task1 - 4. Write a Python program to find the volume of a sphere with diameter 12 cm.\n",
    "# Formula: V=4/3 * π * r3\n",
    "# ----------------------------------------------------------------------------------------------------------------------\n",
    "\n",
    "pi = 3.1415926535897931\n",
    "r = 6\n",
    "V= 4.0/3.0*pi* r**3\n",
    "print('The volume of the sphere is: ' , V)"
   ]
  },
  {
   "cell_type": "code",
   "execution_count": 19,
   "metadata": {},
   "outputs": [
    {
     "name": "stdout",
     "output_type": "stream",
     "text": [
      "Input some comma seprated numbers : 2,4,6,8,10,12,14,16,18,20\n",
      "List :  ['2', '4', '6', '8', '10', '12', '14', '16', '18', '20']\n"
     ]
    }
   ],
   "source": [
    "# Task2 - 1. Write a program which accepts a sequence of comma-separated numbers from console and generate a list.\n",
    "# ----------------------------------------------------------------------------------------------------------------------\n",
    "\n",
    "commaseparatednumbers = input(\"Input some comma seprated numbers : \")\n",
    "list = commaseparatednumbers.split(\",\")\n",
    "print('List : ', list)\n"
   ]
  },
  {
   "cell_type": "code",
   "execution_count": 20,
   "metadata": {},
   "outputs": [
    {
     "name": "stdout",
     "output_type": "stream",
     "text": [
      "\n",
      "* \n",
      "* * \n",
      "* * * \n",
      "* * * * \n",
      "* * * * * \n",
      "* * * * \n",
      "* * * \n",
      "* * \n",
      "* \n"
     ]
    }
   ],
   "source": [
    "# Task2 - 2. Create the below pattern using nested for loop in Python.\n",
    "# *\n",
    "# * *\n",
    "# * * *\n",
    "# * * * *\n",
    "# * * * * *\n",
    "# * * * *\n",
    "# * * *\n",
    "# * *\n",
    "# *\n",
    "# ----------------------------------------------------------------------------------------------------------------------\n",
    "\n",
    "n=5;\n",
    "for i in range(n):\n",
    "    for j in range(i):\n",
    "        print ('* ', end=\"\")\n",
    "    print('')\n",
    "\n",
    "for i in range(n,0,-1):\n",
    "    for j in range(i):\n",
    "        print('* ', end=\"\")\n",
    "    print('')"
   ]
  },
  {
   "cell_type": "code",
   "execution_count": 22,
   "metadata": {},
   "outputs": [
    {
     "name": "stdout",
     "output_type": "stream",
     "text": [
      "Enter any word to print it in reverse AcadGild\n",
      "Input Word: AcadGild\n",
      "Reverse Output: dliGdacA\n"
     ]
    }
   ],
   "source": [
    "# Task2 - 3. Write a Python program to reverse a word after accepting the input from the user.\n",
    "# ----------------------------------------------------------------------------------------------------------------------\n",
    "str = input(\"Enter any word to print it in reverse \")\n",
    "print (\"Input Word: \" + str)\n",
    "print (\"Reverse Output: \" + str[::-1])\n"
   ]
  },
  {
   "cell_type": "code",
   "execution_count": 41,
   "metadata": {},
   "outputs": [
    {
     "name": "stdout",
     "output_type": "stream",
     "text": [
      "WE, THE PEOPLE OF INDIA,\n",
      "      having solemnly resolved to constitute India into a SOVEREIGN,! \n",
      "\t     SOCIALIST, SECULAR, DEMOCRATIC REPUBLIC\n",
      "\t     and to secure to all its citizens\n"
     ]
    }
   ],
   "source": [
    "# Task2 - 4. Write a Python Program to print the given string in the format specified in the sample output.\n",
    "# WE, THE PEOPLE OF INDIA, having solemnly resolved to constitute India into a \n",
    "# SOVEREIGN, SOCIALIST, SECULAR, DEMOCRATIC REPUBLIC and to secure to all\n",
    "# its citizens\n",
    "\n",
    "print (\"WE, THE PEOPLE OF INDIA,\\n      having solemnly resolved to constitute India into a SOVEREIGN,! \\n\\t     SOCIALIST, SECULAR, DEMOCRATIC REPUBLIC\\n\\t     and to secure to all its citizens\")"
   ]
  }
 ],
 "metadata": {
  "kernelspec": {
   "display_name": "Python 3",
   "language": "python",
   "name": "python3"
  },
  "language_info": {
   "codemirror_mode": {
    "name": "ipython",
    "version": 3
   },
   "file_extension": ".py",
   "mimetype": "text/x-python",
   "name": "python",
   "nbconvert_exporter": "python",
   "pygments_lexer": "ipython3",
   "version": "3.7.3"
  }
 },
 "nbformat": 4,
 "nbformat_minor": 2
}
