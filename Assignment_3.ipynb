{
 "cells": [
  {
   "cell_type": "code",
   "execution_count": 22,
   "metadata": {},
   "outputs": [
    {
     "name": "stdout",
     "output_type": "stream",
     "text": [
      "The divisor is zero\n"
     ]
    }
   ],
   "source": [
    "# Task1 Q1 : Write a function to compute 5/0 and use try/except to catch the exceptions. \n",
    "\n",
    "def zero_divide():\n",
    "    try:\n",
    "        result = 5 / 0\n",
    "        print(\"result is : \", result)\n",
    "    except ZeroDivisionError:\n",
    "        print(\"The divisor is zero\")\n",
    "  \n",
    "\n",
    "zero_divide() \n",
    "  "
   ]
  },
  {
   "cell_type": "code",
   "execution_count": 43,
   "metadata": {},
   "outputs": [
    {
     "name": "stdout",
     "output_type": "stream",
     "text": [
      "Americans play baseball.\n",
      "Americans play cricket.\n",
      "Americans watch baseball.\n",
      "Americans watch cricket.\n",
      "Indians play baseball.\n",
      "Indians play cricket.\n",
      "Indians watch baseball.\n",
      "Indians watch cricket.\n",
      "###############################\n",
      "\n",
      "This output is using the call to list comprehension function\n",
      "\n",
      "Americans play baseball.\n",
      "Americans play cricket.\n",
      "Americans watch baseball.\n",
      "Americans watch cricket.\n",
      "Indians play baseball.\n",
      "Indians play cricket.\n",
      "Indians watch baseball.\n",
      "Indians watch cricket.\n"
     ]
    }
   ],
   "source": [
    "# Task1 Q2: Implement a Python program to generate all sentences where subject is in [\"Americans\", \"Indians\"] and verb is in [\"Play\", \"watch\"] and the object is in [\"Baseball\",\"cricket\"]. \n",
    " \n",
    "# Hint: Subject,Verb and Object should be declared in the program as shown below. \n",
    "# subjects=[\"Americans \",\"Indians\"] verbs=[\"play\",\"watch\"] objects=[\"Baseball\",\"Cricket\"] \n",
    "# Output should come as below: \n",
    "# Americans  play Baseball. \n",
    "# Americans  play Cricket. \n",
    "# Americans  watch Baseball. \n",
    "# Americans  watch Cricket. \n",
    "# Indians play Baseball. \n",
    "# Indians play Cricket. \n",
    "# Indians watch Baseball. \n",
    "# Indians watch Cricket. \n",
    "\n",
    "# define the function\n",
    "def sentence_implement():\n",
    "    subjects = [\"Americans\",\"Indians\"]\n",
    "    verbs = [\"play\",\"watch\"]\n",
    "    objects = [\"baseball\",\"cricket\"]\n",
    "\n",
    "    for i in subjects:\n",
    "    \n",
    "        for j in verbs:\n",
    "               \n",
    "            for k in objects:\n",
    "                print(i, j, k, end = \".\")\n",
    "                print()\n",
    "\n",
    "def sentence_list():\n",
    "    subjects = [\"Americans\",\"Indians\"]\n",
    "    verbs = [\"play\",\"watch\"]\n",
    "    objects = [\"baseball\",\"cricket\"]\n",
    "    \n",
    "    sentence_list = [(sub+\" \"+ vb + \" \" + ob) for sub in subjects for vb in verbs for ob in objects]\n",
    "    for sentence in sentence_list:\n",
    "        print (sentence+ \".\")\n",
    "                \n",
    "# Call the function                \n",
    "sentence_implement()  \n",
    "print(\"###############################\")\n",
    "print()\n",
    "\n",
    "print(\"This output is using the call to list comprehension function\")\n",
    "print()\n",
    "sentence_list()\n",
    "    "
   ]
  },
  {
   "cell_type": "code",
   "execution_count": 45,
   "metadata": {},
   "outputs": [
    {
     "data": {
      "text/plain": [
       "array([[ 1,  1,  1,  1],\n",
       "       [ 8,  4,  2,  1],\n",
       "       [27,  9,  3,  1],\n",
       "       [64, 16,  4,  1]], dtype=int32)"
      ]
     },
     "execution_count": 45,
     "metadata": {},
     "output_type": "execute_result"
    }
   ],
   "source": [
    "# Task2 Q1: Write a function so that the columns of the output matrix are powers of the input vector.  \n",
    "# The order of the powers is determined by the increasing boolean argument. \n",
    "# Specifically, when increasing is False, the i-th output column is the input vector raised element-wise to the power of N - i - 1. \n",
    "\n",
    "import numpy as np\n",
    "x = np.array([1,2,3,4])\n",
    "N = 4\n",
    "np.vander(x,N, increasing = True)\n",
    "np.column_stack([x**(N-i-1) for i in range(N)])\n"
   ]
  },
  {
   "cell_type": "code",
   "execution_count": null,
   "metadata": {},
   "outputs": [],
   "source": []
  }
 ],
 "metadata": {
  "kernelspec": {
   "display_name": "Python 3",
   "language": "python",
   "name": "python3"
  },
  "language_info": {
   "codemirror_mode": {
    "name": "ipython",
    "version": 3
   },
   "file_extension": ".py",
   "mimetype": "text/x-python",
   "name": "python",
   "nbconvert_exporter": "python",
   "pygments_lexer": "ipython3",
   "version": "3.7.3"
  }
 },
 "nbformat": 4,
 "nbformat_minor": 2
}
